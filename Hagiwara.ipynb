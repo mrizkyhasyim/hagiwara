{
  "nbformat": 4,
  "nbformat_minor": 0,
  "metadata": {
    "colab": {
      "name": "Hagiwara.ipynb",
      "provenance": [],
      "authorship_tag": "ABX9TyPUOq9spEqMdnK9auWftEsJ",
      "include_colab_link": true
    },
    "kernelspec": {
      "name": "python3",
      "display_name": "Python 3"
    },
    "language_info": {
      "name": "python"
    }
  },
  "cells": [
    {
      "cell_type": "markdown",
      "metadata": {
        "id": "view-in-github",
        "colab_type": "text"
      },
      "source": [
        "<a href=\"https://colab.research.google.com/github/mrizkyhasyim/hagiwara/blob/main/Hagiwara.ipynb\" target=\"_parent\"><img src=\"https://colab.research.google.com/assets/colab-badge.svg\" alt=\"Open In Colab\"/></a>"
      ]
    },
    {
      "cell_type": "code",
      "metadata": {
        "colab": {
          "base_uri": "https://localhost:8080/"
        },
        "id": "ByCPFXGxi2WL",
        "outputId": "4971c251-b7ee-4172-b478-ddb6fb4a2dd1"
      },
      "source": [
        "from google.colab import drive\n",
        "drive.mount('/content/gdrive')"
      ],
      "execution_count": 2,
      "outputs": [
        {
          "output_type": "stream",
          "name": "stdout",
          "text": [
            "Mounted at /content/gdrive\n"
          ]
        }
      ]
    },
    {
      "cell_type": "code",
      "metadata": {
        "colab": {
          "base_uri": "https://localhost:8080/",
          "height": 363
        },
        "id": "mFXUFwx2rE1r",
        "outputId": "45388ce9-316a-47ba-b9df-b85b22f5ba12"
      },
      "source": [
        "import pandas as pd\n",
        "import numpy as np\n",
        "df = pd.ExcelFile('/content/gdrive/MyDrive/Project/hagiwara.xlsx')\n",
        "df1 = pd.read_excel(df, 'Sheet1')\n",
        "df2 = pd.DataFrame(df1)\n",
        "df2"
      ],
      "execution_count": 42,
      "outputs": [
        {
          "output_type": "execute_result",
          "data": {
            "text/html": [
              "<div>\n",
              "<style scoped>\n",
              "    .dataframe tbody tr th:only-of-type {\n",
              "        vertical-align: middle;\n",
              "    }\n",
              "\n",
              "    .dataframe tbody tr th {\n",
              "        vertical-align: top;\n",
              "    }\n",
              "\n",
              "    .dataframe thead th {\n",
              "        text-align: right;\n",
              "    }\n",
              "</style>\n",
              "<table border=\"1\" class=\"dataframe\">\n",
              "  <thead>\n",
              "    <tr style=\"text-align: right;\">\n",
              "      <th></th>\n",
              "      <th>Jarak (m)</th>\n",
              "      <th>TAP</th>\n",
              "      <th>TBP</th>\n",
              "    </tr>\n",
              "  </thead>\n",
              "  <tbody>\n",
              "    <tr>\n",
              "      <th>0</th>\n",
              "      <td>0</td>\n",
              "      <td>0.0000</td>\n",
              "      <td>0.0140</td>\n",
              "    </tr>\n",
              "    <tr>\n",
              "      <th>1</th>\n",
              "      <td>2</td>\n",
              "      <td>0.0010</td>\n",
              "      <td>0.0125</td>\n",
              "    </tr>\n",
              "    <tr>\n",
              "      <th>2</th>\n",
              "      <td>7</td>\n",
              "      <td>0.0035</td>\n",
              "      <td>0.0110</td>\n",
              "    </tr>\n",
              "    <tr>\n",
              "      <th>3</th>\n",
              "      <td>12</td>\n",
              "      <td>0.0050</td>\n",
              "      <td>0.0100</td>\n",
              "    </tr>\n",
              "    <tr>\n",
              "      <th>4</th>\n",
              "      <td>17</td>\n",
              "      <td>0.0065</td>\n",
              "      <td>0.0090</td>\n",
              "    </tr>\n",
              "    <tr>\n",
              "      <th>5</th>\n",
              "      <td>22</td>\n",
              "      <td>0.0075</td>\n",
              "      <td>0.0080</td>\n",
              "    </tr>\n",
              "    <tr>\n",
              "      <th>6</th>\n",
              "      <td>27</td>\n",
              "      <td>0.0085</td>\n",
              "      <td>0.0045</td>\n",
              "    </tr>\n",
              "    <tr>\n",
              "      <th>7</th>\n",
              "      <td>32</td>\n",
              "      <td>0.0105</td>\n",
              "      <td>0.0025</td>\n",
              "    </tr>\n",
              "    <tr>\n",
              "      <th>8</th>\n",
              "      <td>37</td>\n",
              "      <td>0.0120</td>\n",
              "      <td>0.0015</td>\n",
              "    </tr>\n",
              "    <tr>\n",
              "      <th>9</th>\n",
              "      <td>42</td>\n",
              "      <td>0.0140</td>\n",
              "      <td>0.0000</td>\n",
              "    </tr>\n",
              "  </tbody>\n",
              "</table>\n",
              "</div>"
            ],
            "text/plain": [
              "   Jarak (m)     TAP     TBP\n",
              "0          0  0.0000  0.0140\n",
              "1          2  0.0010  0.0125\n",
              "2          7  0.0035  0.0110\n",
              "3         12  0.0050  0.0100\n",
              "4         17  0.0065  0.0090\n",
              "5         22  0.0075  0.0080\n",
              "6         27  0.0085  0.0045\n",
              "7         32  0.0105  0.0025\n",
              "8         37  0.0120  0.0015\n",
              "9         42  0.0140  0.0000"
            ]
          },
          "metadata": {},
          "execution_count": 42
        }
      ]
    },
    {
      "cell_type": "code",
      "metadata": {
        "colab": {
          "base_uri": "https://localhost:8080/"
        },
        "id": "6-Lykw8HzE4p",
        "outputId": "5a924b4a-4b22-4848-a7ce-a47470db0370"
      },
      "source": [
        "TAB_A = df2.iloc[9,1] #select data from 8th row and 2nd column\n",
        "TAB_B = df2.iloc[0,2] #select data from 1st row and 3rd column\n",
        "TAB = (TAB_A + TAB_B)/2\n",
        "TAB"
      ],
      "execution_count": 4,
      "outputs": [
        {
          "output_type": "execute_result",
          "data": {
            "text/plain": [
              "0.014"
            ]
          },
          "metadata": {},
          "execution_count": 4
        }
      ]
    },
    {
      "cell_type": "code",
      "metadata": {
        "colab": {
          "base_uri": "https://localhost:8080/"
        },
        "id": "wn0u3b5qDA4T",
        "outputId": "f3b97fad-39a9-40f9-f274-8e03a5df0a0e"
      },
      "source": [
        "A01 = df2.iloc[0,1]\n",
        "B02 = df2.iloc[0,2]\n",
        "TBPx = B02-((A01+B02-TAB)/2)\n",
        "TBPx"
      ],
      "execution_count": 13,
      "outputs": [
        {
          "output_type": "execute_result",
          "data": {
            "text/plain": [
              "0.014"
            ]
          },
          "metadata": {},
          "execution_count": 13
        }
      ]
    },
    {
      "cell_type": "code",
      "metadata": {
        "colab": {
          "base_uri": "https://localhost:8080/"
        },
        "id": "4hb_QbU_FiaB",
        "outputId": "9694b9e4-3814-4eb6-e540-591aa4811e9f"
      },
      "source": [
        "TAPx = []\n",
        "for i, row in df2.iterrows():\n",
        "   TAPx.append(row[1]-((row[2]+row[1]-TAB)/2))\n",
        "   #print(row[2]-((row[2]+row[1]-TAB)/2))\n",
        "TAPx"
      ],
      "execution_count": 5,
      "outputs": [
        {
          "output_type": "execute_result",
          "data": {
            "text/plain": [
              "[0.0,\n",
              " 0.0012499999999999994,\n",
              " 0.0032500000000000007,\n",
              " 0.0045000000000000005,\n",
              " 0.00575,\n",
              " 0.00675,\n",
              " 0.009000000000000001,\n",
              " 0.011,\n",
              " 0.01225,\n",
              " 0.014]"
            ]
          },
          "metadata": {},
          "execution_count": 5
        }
      ]
    },
    {
      "cell_type": "code",
      "metadata": {
        "colab": {
          "base_uri": "https://localhost:8080/"
        },
        "id": "6FjfhIAVINCQ",
        "outputId": "65e74fca-b6c5-4c74-a9b6-6b5e923d4558"
      },
      "source": [
        "TBPx = []\n",
        "for i, row in df2.iterrows():\n",
        "   TBPx.append(row[2]-((row[2]+row[1]-TAB)/2))\n",
        "TBPx"
      ],
      "execution_count": 6,
      "outputs": [
        {
          "output_type": "execute_result",
          "data": {
            "text/plain": [
              "[0.014,\n",
              " 0.012750000000000001,\n",
              " 0.01075,\n",
              " 0.009500000000000001,\n",
              " 0.00825,\n",
              " 0.00725,\n",
              " 0.004999999999999999,\n",
              " 0.0029999999999999996,\n",
              " 0.0017500000000000003,\n",
              " 0.0]"
            ]
          },
          "metadata": {},
          "execution_count": 6
        }
      ]
    },
    {
      "cell_type": "code",
      "metadata": {
        "colab": {
          "base_uri": "https://localhost:8080/",
          "height": 296
        },
        "id": "1JVpuSQRIKcY",
        "outputId": "8e67a9a2-93a8-4c71-b450-62a74dd88d99"
      },
      "source": [
        "df2['TAPx'] = TAPx\n",
        "df2['TBPx'] = TBPx\n",
        "df2\n",
        "df2.plot(x='Jarak (m)', marker='.')\n",
        "#Review the graph to determine the lowtrend and hightrend"
      ],
      "execution_count": 53,
      "outputs": [
        {
          "output_type": "execute_result",
          "data": {
            "text/plain": [
              "<matplotlib.axes._subplots.AxesSubplot at 0x7f3b7e230190>"
            ]
          },
          "metadata": {},
          "execution_count": 53
        },
        {
          "output_type": "display_data",
          "data": {
            "image/png": "[encoded data removed]",
            "text/plain": [
              "<Figure size 432x288 with 1 Axes>"
            ]
          },
          "metadata": {
            "needs_background": "light"
          }
        }
      ]
    },
    {
      "cell_type": "code",
      "metadata": {
        "colab": {
          "base_uri": "https://localhost:8080/",
          "height": 363
        },
        "id": "JPw_yth5dtWG",
        "outputId": "3b083ba3-2808-478c-e1d1-851824f9a6f5"
      },
      "source": [
        ""
      ],
      "execution_count": 65,
      "outputs": [
        {
          "output_type": "execute_result",
          "data": {
            "text/html": [
              "<div>\n",
              "<style scoped>\n",
              "    .dataframe tbody tr th:only-of-type {\n",
              "        vertical-align: middle;\n",
              "    }\n",
              "\n",
              "    .dataframe tbody tr th {\n",
              "        vertical-align: top;\n",
              "    }\n",
              "\n",
              "    .dataframe thead th {\n",
              "        text-align: right;\n",
              "    }\n",
              "</style>\n",
              "<table border=\"1\" class=\"dataframe\">\n",
              "  <thead>\n",
              "    <tr style=\"text-align: right;\">\n",
              "      <th></th>\n",
              "      <th>Jarak (m)</th>\n",
              "      <th>TAP</th>\n",
              "    </tr>\n",
              "  </thead>\n",
              "  <tbody>\n",
              "    <tr>\n",
              "      <th>0</th>\n",
              "      <td>0</td>\n",
              "      <td>0.0000</td>\n",
              "    </tr>\n",
              "    <tr>\n",
              "      <th>1</th>\n",
              "      <td>2</td>\n",
              "      <td>0.0010</td>\n",
              "    </tr>\n",
              "    <tr>\n",
              "      <th>2</th>\n",
              "      <td>7</td>\n",
              "      <td>0.0035</td>\n",
              "    </tr>\n",
              "    <tr>\n",
              "      <th>3</th>\n",
              "      <td>12</td>\n",
              "      <td>0.0050</td>\n",
              "    </tr>\n",
              "    <tr>\n",
              "      <th>4</th>\n",
              "      <td>17</td>\n",
              "      <td>0.0065</td>\n",
              "    </tr>\n",
              "    <tr>\n",
              "      <th>5</th>\n",
              "      <td>22</td>\n",
              "      <td>0.0075</td>\n",
              "    </tr>\n",
              "    <tr>\n",
              "      <th>6</th>\n",
              "      <td>27</td>\n",
              "      <td>0.0085</td>\n",
              "    </tr>\n",
              "    <tr>\n",
              "      <th>7</th>\n",
              "      <td>32</td>\n",
              "      <td>0.0105</td>\n",
              "    </tr>\n",
              "    <tr>\n",
              "      <th>8</th>\n",
              "      <td>37</td>\n",
              "      <td>0.0120</td>\n",
              "    </tr>\n",
              "    <tr>\n",
              "      <th>9</th>\n",
              "      <td>42</td>\n",
              "      <td>0.0140</td>\n",
              "    </tr>\n",
              "  </tbody>\n",
              "</table>\n",
              "</div>"
            ],
            "text/plain": [
              "   Jarak (m)     TAP\n",
              "0          0  0.0000\n",
              "1          2  0.0010\n",
              "2          7  0.0035\n",
              "3         12  0.0050\n",
              "4         17  0.0065\n",
              "5         22  0.0075\n",
              "6         27  0.0085\n",
              "7         32  0.0105\n",
              "8         37  0.0120\n",
              "9         42  0.0140"
            ]
          },
          "metadata": {},
          "execution_count": 65
        }
      ]
    },
    {
      "cell_type": "code",
      "metadata": {
        "colab": {
          "base_uri": "https://localhost:8080/",
          "height": 334
        },
        "id": "3ghSs_LdZoJq",
        "outputId": "ebc74fc5-e3b9-44c8-bbed-695d0c49ee39"
      },
      "source": [
        "from scipy.stats import linregress\n",
        "from scipy import stats\n",
        "\n",
        "TAPgraph = []\n",
        "TAPgraph = pd.DataFrame(df2, columns=[\"Jarak (m)\", \"TAP\"])\n",
        "TAPgraph\n",
        "\n",
        "x = pd.DataFrame(df2, columns=[\"Jarak (m)\"])\n",
        "y = pd.DataFrame(df2, columns=[\"TAP\"])\n",
        "res = linregress(df2['Jarak (m)'], df2['TAP'])\n",
        "print(f\" Slope: {res.slope}\\n\", f\"R-squared: {res.rvalue**2:.6f}\\n\", f\"Intercept: {res.intercept}\\n\", f\"Stderr   : {res.stderr}\")\n",
        "plt.plot(x, y, 'o', label='original data')\n",
        "plt.plot(x, res.intercept + res.slope*x, 'r', label='fitted line')\n",
        "plt.legend()\n",
        "plt.show()"
      ],
      "execution_count": 105,
      "outputs": [
        {
          "output_type": "stream",
          "name": "stdout",
          "text": [
            " Slope: 0.00031163463525521804\n",
            " R-squared: 0.989228\n",
            " Intercept: 0.0006796342219466825\n",
            " Stderr   : 1.1497537894620375e-05\n"
          ]
        },
        {
          "output_type": "display_data",
          "data": {
            "image/png": "[encoded data removed]",
            "text/plain": [
              "<Figure size 432x288 with 1 Axes>"
            ]
          },
          "metadata": {
            "needs_background": "light"
          }
        }
      ]
    },
    {
      "cell_type": "code",
      "metadata": {
        "colab": {
          "base_uri": "https://localhost:8080/",
          "height": 130
        },
        "id": "uSiqLG0hKXhn",
        "outputId": "771eca0c-c981-48e8-a5ae-9c4694856802"
      },
      "source": [
        "import matplotlib.pyplot as plt\n",
        "jarak = df2.columns.str.('Jarak (m)')\n",
        "\n",
        "# Convert year values to integers, saving results back to dataframe\n",
        "\n",
        "df2.columns = jarak.astype(int)\n",
        "\n"
      ],
      "execution_count": 14,
      "outputs": [
        {
          "output_type": "error",
          "ename": "SyntaxError",
          "evalue": "ignored",
          "traceback": [
            "\u001b[0;36m  File \u001b[0;32m\"<ipython-input-14-3ce6da91bf37>\"\u001b[0;36m, line \u001b[0;32m2\u001b[0m\n\u001b[0;31m    jarak = df2.columns.str.('Jarak (m)')\u001b[0m\n\u001b[0m                            ^\u001b[0m\n\u001b[0;31mSyntaxError\u001b[0m\u001b[0;31m:\u001b[0m invalid syntax\n"
          ]
        }
      ]
    },
    {
      "cell_type": "code",
      "metadata": {
        "id": "4aVAzuVJIrE8"
      },
      "source": [
        "H = []\n",
        "for i, row in df2.iterrows():\n",
        "   H.append()\n",
        "H"
      ],
      "execution_count": null,
      "outputs": []
    }
  ]
}