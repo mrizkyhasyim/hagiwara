{
  "nbformat": 4,
  "nbformat_minor": 0,
  "metadata": {
    "colab": {
      "name": "Hagiwara.ipynb",
      "provenance": [],
      "collapsed_sections": [],
      "authorship_tag": "ABX9TyMpXZBGOZl9HbzkypQpfBB8",
      "include_colab_link": true
    },
    "kernelspec": {
      "name": "python3",
      "display_name": "Python 3"
    },
    "language_info": {
      "name": "python"
    }
  },
  "cells": [
    {
      "cell_type": "markdown",
      "metadata": {
        "id": "view-in-github",
        "colab_type": "text"
      },
      "source": [
        "<a href=\"https://colab.research.google.com/github/mrizkyhasyim/hagiwara/blob/main/Hagiwara2.ipynb\" target=\"_parent\"><img src=\"https://colab.research.google.com/assets/colab-badge.svg\" alt=\"Open In Colab\"/></a>"
      ]
    },
    {
      "cell_type": "code",
      "metadata": {
        "colab": {
          "base_uri": "https://localhost:8080/"
        },
        "id": "ByCPFXGxi2WL",
        "outputId": "e7693496-d34e-4c64-8187-8d2d5be1e518"
      },
      "source": [
        "from google.colab import drive\n",
        "drive.mount('/content/gdrive')"
      ],
      "execution_count": null,
      "outputs": [
        {
          "output_type": "stream",
          "name": "stdout",
          "text": [
            "Mounted at /content/gdrive\n"
          ]
        }
      ]
    },
    {
      "cell_type": "code",
      "metadata": {
        "colab": {
          "base_uri": "https://localhost:8080/",
          "height": 452
        },
        "id": "mFXUFwx2rE1r",
        "outputId": "0c97b830-f2e5-4a00-8ee2-b89baf4a123f"
      },
      "source": [
        "import pandas as pd\n",
        "import numpy as np\n",
        "df = pd.ExcelFile('/content/gdrive/MyDrive/Project/hagiwara2.xlsx')\n",
        "df1 = pd.read_excel(df, 'Sheet1')\n",
        "df2 = pd.DataFrame(df1)\n",
        "df2"
      ],
      "execution_count": null,
      "outputs": [
        {
          "output_type": "execute_result",
          "data": {
            "text/html": [
              "<div>\n",
              "<style scoped>\n",
              "    .dataframe tbody tr th:only-of-type {\n",
              "        vertical-align: middle;\n",
              "    }\n",
              "\n",
              "    .dataframe tbody tr th {\n",
              "        vertical-align: top;\n",
              "    }\n",
              "\n",
              "    .dataframe thead th {\n",
              "        text-align: right;\n",
              "    }\n",
              "</style>\n",
              "<table border=\"1\" class=\"dataframe\">\n",
              "  <thead>\n",
              "    <tr style=\"text-align: right;\">\n",
              "      <th></th>\n",
              "      <th>Jarak (m)</th>\n",
              "      <th>TAP</th>\n",
              "      <th>TBP</th>\n",
              "    </tr>\n",
              "  </thead>\n",
              "  <tbody>\n",
              "    <tr>\n",
              "      <th>0</th>\n",
              "      <td>0.0</td>\n",
              "      <td>0.0000</td>\n",
              "      <td>0.0295</td>\n",
              "    </tr>\n",
              "    <tr>\n",
              "      <th>1</th>\n",
              "      <td>2.5</td>\n",
              "      <td>0.0115</td>\n",
              "      <td>0.0265</td>\n",
              "    </tr>\n",
              "    <tr>\n",
              "      <th>2</th>\n",
              "      <td>5.0</td>\n",
              "      <td>0.0160</td>\n",
              "      <td>0.0260</td>\n",
              "    </tr>\n",
              "    <tr>\n",
              "      <th>3</th>\n",
              "      <td>7.5</td>\n",
              "      <td>0.0185</td>\n",
              "      <td>0.0250</td>\n",
              "    </tr>\n",
              "    <tr>\n",
              "      <th>4</th>\n",
              "      <td>10.0</td>\n",
              "      <td>0.0205</td>\n",
              "      <td>0.0235</td>\n",
              "    </tr>\n",
              "    <tr>\n",
              "      <th>5</th>\n",
              "      <td>12.5</td>\n",
              "      <td>0.0215</td>\n",
              "      <td>0.0210</td>\n",
              "    </tr>\n",
              "    <tr>\n",
              "      <th>6</th>\n",
              "      <td>15.0</td>\n",
              "      <td>0.0220</td>\n",
              "      <td>0.0205</td>\n",
              "    </tr>\n",
              "    <tr>\n",
              "      <th>7</th>\n",
              "      <td>17.5</td>\n",
              "      <td>0.0235</td>\n",
              "      <td>0.0195</td>\n",
              "    </tr>\n",
              "    <tr>\n",
              "      <th>8</th>\n",
              "      <td>20.0</td>\n",
              "      <td>0.0250</td>\n",
              "      <td>0.0185</td>\n",
              "    </tr>\n",
              "    <tr>\n",
              "      <th>9</th>\n",
              "      <td>22.5</td>\n",
              "      <td>0.0260</td>\n",
              "      <td>0.0175</td>\n",
              "    </tr>\n",
              "    <tr>\n",
              "      <th>10</th>\n",
              "      <td>25.0</td>\n",
              "      <td>0.0280</td>\n",
              "      <td>0.0170</td>\n",
              "    </tr>\n",
              "    <tr>\n",
              "      <th>11</th>\n",
              "      <td>27.5</td>\n",
              "      <td>0.0285</td>\n",
              "      <td>0.0110</td>\n",
              "    </tr>\n",
              "    <tr>\n",
              "      <th>12</th>\n",
              "      <td>30.0</td>\n",
              "      <td>0.0315</td>\n",
              "      <td>0.0000</td>\n",
              "    </tr>\n",
              "  </tbody>\n",
              "</table>\n",
              "</div>"
            ],
            "text/plain": [
              "    Jarak (m)     TAP     TBP\n",
              "0         0.0  0.0000  0.0295\n",
              "1         2.5  0.0115  0.0265\n",
              "2         5.0  0.0160  0.0260\n",
              "3         7.5  0.0185  0.0250\n",
              "4        10.0  0.0205  0.0235\n",
              "5        12.5  0.0215  0.0210\n",
              "6        15.0  0.0220  0.0205\n",
              "7        17.5  0.0235  0.0195\n",
              "8        20.0  0.0250  0.0185\n",
              "9        22.5  0.0260  0.0175\n",
              "10       25.0  0.0280  0.0170\n",
              "11       27.5  0.0285  0.0110\n",
              "12       30.0  0.0315  0.0000"
            ]
          },
          "metadata": {},
          "execution_count": 20
        }
      ]
    },
    {
      "cell_type": "code",
      "metadata": {
        "colab": {
          "base_uri": "https://localhost:8080/"
        },
        "id": "6-Lykw8HzE4p",
        "outputId": "1f6997fe-fb6f-4a82-cf7e-08cbfc0ea9f9"
      },
      "source": [
        "TAB_A = df2.iloc[12,1] #select data from 8th row and 2nd column\n",
        "TAB_B = df2.iloc[0,2] #select data from 1st row and 3rd column\n",
        "TAB = (TAB_A + TAB_B)/2\n",
        "TAB\n"
      ],
      "execution_count": null,
      "outputs": [
        {
          "output_type": "execute_result",
          "data": {
            "text/plain": [
              "0.0305"
            ]
          },
          "metadata": {},
          "execution_count": 26
        }
      ]
    },
    {
      "cell_type": "code",
      "metadata": {
        "colab": {
          "base_uri": "https://localhost:8080/"
        },
        "id": "wn0u3b5qDA4T",
        "outputId": "c0c4de9c-ddb3-4a34-cc10-491cb36f92f4"
      },
      "source": [
        "A01 = df2.iloc[0,1]\n",
        "B02 = df2.iloc[0,2]\n",
        "TBPa = B02-((A01+B02-TAB)/2)\n",
        "TBPa"
      ],
      "execution_count": null,
      "outputs": [
        {
          "output_type": "execute_result",
          "data": {
            "text/plain": [
              "0.03"
            ]
          },
          "metadata": {},
          "execution_count": 27
        }
      ]
    },
    {
      "cell_type": "code",
      "metadata": {
        "colab": {
          "base_uri": "https://localhost:8080/"
        },
        "id": "4hb_QbU_FiaB",
        "outputId": "9a7335ec-4bcd-4133-f46c-1a486b73f479"
      },
      "source": [
        "TAPa = []\n",
        "for i, row in df2.iterrows():\n",
        "   TAPa.append(row[1]-((row[2]+row[1]-TAB)/2))\n",
        "   #print(row[2]-((row[2]+row[1]-TAB)/2))\n",
        "TAPa"
      ],
      "execution_count": null,
      "outputs": [
        {
          "output_type": "execute_result",
          "data": {
            "text/plain": [
              "[0.0005000000000000004,\n",
              " 0.00775,\n",
              " 0.010250000000000002,\n",
              " 0.012,\n",
              " 0.013750000000000002,\n",
              " 0.0155,\n",
              " 0.016,\n",
              " 0.01725,\n",
              " 0.018500000000000003,\n",
              " 0.0195,\n",
              " 0.02075,\n",
              " 0.024,\n",
              " 0.031]"
            ]
          },
          "metadata": {},
          "execution_count": 28
        }
      ]
    },
    {
      "cell_type": "code",
      "metadata": {
        "colab": {
          "base_uri": "https://localhost:8080/"
        },
        "id": "6FjfhIAVINCQ",
        "outputId": "2de00a0e-3f68-451a-bcbf-b96e1bd7a249"
      },
      "source": [
        "TBPa = []\n",
        "for i, row in df2.iterrows():\n",
        "   TBPa.append(row[2]-((row[2]+row[1]-TAB)/2))\n",
        "TBPa\n"
      ],
      "execution_count": null,
      "outputs": [
        {
          "output_type": "execute_result",
          "data": {
            "text/plain": [
              "[0.03,\n",
              " 0.02275,\n",
              " 0.02025,\n",
              " 0.018500000000000003,\n",
              " 0.01675,\n",
              " 0.015000000000000003,\n",
              " 0.014500000000000002,\n",
              " 0.013250000000000001,\n",
              " 0.012,\n",
              " 0.011000000000000003,\n",
              " 0.009750000000000002,\n",
              " 0.006499999999999999,\n",
              " -0.0005000000000000004]"
            ]
          },
          "metadata": {},
          "execution_count": 29
        }
      ]
    },
    {
      "cell_type": "code",
      "metadata": {
        "colab": {
          "base_uri": "https://localhost:8080/",
          "height": 714
        },
        "id": "1JVpuSQRIKcY",
        "outputId": "6c6289f7-d4b2-4459-beea-b0e85f9da07d"
      },
      "source": [
        "df2['TAPa'] = TAPa\n",
        "df2['TBPa'] = TBPa\n",
        "\n",
        "df2\n",
        "df2.plot(x='Jarak (m)', marker='.')\n",
        "df2\n",
        "#Review the graph to determine the lowtrend and hightrend"
      ],
      "execution_count": null,
      "outputs": [
        {
          "output_type": "execute_result",
          "data": {
            "text/html": [
              "<div>\n",
              "<style scoped>\n",
              "    .dataframe tbody tr th:only-of-type {\n",
              "        vertical-align: middle;\n",
              "    }\n",
              "\n",
              "    .dataframe tbody tr th {\n",
              "        vertical-align: top;\n",
              "    }\n",
              "\n",
              "    .dataframe thead th {\n",
              "        text-align: right;\n",
              "    }\n",
              "</style>\n",
              "<table border=\"1\" class=\"dataframe\">\n",
              "  <thead>\n",
              "    <tr style=\"text-align: right;\">\n",
              "      <th></th>\n",
              "      <th>Jarak (m)</th>\n",
              "      <th>TAP</th>\n",
              "      <th>TBP</th>\n",
              "      <th>TAPa</th>\n",
              "      <th>TBPa</th>\n",
              "    </tr>\n",
              "  </thead>\n",
              "  <tbody>\n",
              "    <tr>\n",
              "      <th>0</th>\n",
              "      <td>0.0</td>\n",
              "      <td>0.0000</td>\n",
              "      <td>0.0295</td>\n",
              "      <td>0.00050</td>\n",
              "      <td>0.03000</td>\n",
              "    </tr>\n",
              "    <tr>\n",
              "      <th>1</th>\n",
              "      <td>2.5</td>\n",
              "      <td>0.0115</td>\n",
              "      <td>0.0265</td>\n",
              "      <td>0.00775</td>\n",
              "      <td>0.02275</td>\n",
              "    </tr>\n",
              "    <tr>\n",
              "      <th>2</th>\n",
              "      <td>5.0</td>\n",
              "      <td>0.0160</td>\n",
              "      <td>0.0260</td>\n",
              "      <td>0.01025</td>\n",
              "      <td>0.02025</td>\n",
              "    </tr>\n",
              "    <tr>\n",
              "      <th>3</th>\n",
              "      <td>7.5</td>\n",
              "      <td>0.0185</td>\n",
              "      <td>0.0250</td>\n",
              "      <td>0.01200</td>\n",
              "      <td>0.01850</td>\n",
              "    </tr>\n",
              "    <tr>\n",
              "      <th>4</th>\n",
              "      <td>10.0</td>\n",
              "      <td>0.0205</td>\n",
              "      <td>0.0235</td>\n",
              "      <td>0.01375</td>\n",
              "      <td>0.01675</td>\n",
              "    </tr>\n",
              "    <tr>\n",
              "      <th>5</th>\n",
              "      <td>12.5</td>\n",
              "      <td>0.0215</td>\n",
              "      <td>0.0210</td>\n",
              "      <td>0.01550</td>\n",
              "      <td>0.01500</td>\n",
              "    </tr>\n",
              "    <tr>\n",
              "      <th>6</th>\n",
              "      <td>15.0</td>\n",
              "      <td>0.0220</td>\n",
              "      <td>0.0205</td>\n",
              "      <td>0.01600</td>\n",
              "      <td>0.01450</td>\n",
              "    </tr>\n",
              "    <tr>\n",
              "      <th>7</th>\n",
              "      <td>17.5</td>\n",
              "      <td>0.0235</td>\n",
              "      <td>0.0195</td>\n",
              "      <td>0.01725</td>\n",
              "      <td>0.01325</td>\n",
              "    </tr>\n",
              "    <tr>\n",
              "      <th>8</th>\n",
              "      <td>20.0</td>\n",
              "      <td>0.0250</td>\n",
              "      <td>0.0185</td>\n",
              "      <td>0.01850</td>\n",
              "      <td>0.01200</td>\n",
              "    </tr>\n",
              "    <tr>\n",
              "      <th>9</th>\n",
              "      <td>22.5</td>\n",
              "      <td>0.0260</td>\n",
              "      <td>0.0175</td>\n",
              "      <td>0.01950</td>\n",
              "      <td>0.01100</td>\n",
              "    </tr>\n",
              "    <tr>\n",
              "      <th>10</th>\n",
              "      <td>25.0</td>\n",
              "      <td>0.0280</td>\n",
              "      <td>0.0170</td>\n",
              "      <td>0.02075</td>\n",
              "      <td>0.00975</td>\n",
              "    </tr>\n",
              "    <tr>\n",
              "      <th>11</th>\n",
              "      <td>27.5</td>\n",
              "      <td>0.0285</td>\n",
              "      <td>0.0110</td>\n",
              "      <td>0.02400</td>\n",
              "      <td>0.00650</td>\n",
              "    </tr>\n",
              "    <tr>\n",
              "      <th>12</th>\n",
              "      <td>30.0</td>\n",
              "      <td>0.0315</td>\n",
              "      <td>0.0000</td>\n",
              "      <td>0.03100</td>\n",
              "      <td>-0.00050</td>\n",
              "    </tr>\n",
              "  </tbody>\n",
              "</table>\n",
              "</div>"
            ],
            "text/plain": [
              "    Jarak (m)     TAP     TBP     TAPa     TBPa\n",
              "0         0.0  0.0000  0.0295  0.00050  0.03000\n",
              "1         2.5  0.0115  0.0265  0.00775  0.02275\n",
              "2         5.0  0.0160  0.0260  0.01025  0.02025\n",
              "3         7.5  0.0185  0.0250  0.01200  0.01850\n",
              "4        10.0  0.0205  0.0235  0.01375  0.01675\n",
              "5        12.5  0.0215  0.0210  0.01550  0.01500\n",
              "6        15.0  0.0220  0.0205  0.01600  0.01450\n",
              "7        17.5  0.0235  0.0195  0.01725  0.01325\n",
              "8        20.0  0.0250  0.0185  0.01850  0.01200\n",
              "9        22.5  0.0260  0.0175  0.01950  0.01100\n",
              "10       25.0  0.0280  0.0170  0.02075  0.00975\n",
              "11       27.5  0.0285  0.0110  0.02400  0.00650\n",
              "12       30.0  0.0315  0.0000  0.03100 -0.00050"
            ]
          },
          "metadata": {},
          "execution_count": 49
        },
        {
          "output_type": "display_data",
          "data": {
            "image/png": "[encoded data removed]",
            "text/plain": [
              "<Figure size 432x288 with 1 Axes>"
            ]
          },
          "metadata": {
            "needs_background": "light"
          }
        }
      ]
    },
    {
      "cell_type": "code",
      "metadata": {
        "colab": {
          "base_uri": "https://localhost:8080/",
          "height": 690
        },
        "id": "3ghSs_LdZoJq",
        "outputId": "1f1d4064-38d4-40d8-c0d3-bb99784f839e"
      },
      "source": [
        "from scipy.stats import linregress\n",
        "from scipy import stats\n",
        "import matplotlib.pyplot as plt\n",
        "from sklearn.linear_model import LinearRegression\n",
        "\n",
        "\n",
        "TAPx = pd.DataFrame(df2, columns=[\"Jarak (m)\"]) #Forward Langsung\n",
        "TAPx = TAPx.loc[0:2]\n",
        "TAPy = pd.DataFrame(df2, columns=[\"TAP\"])\n",
        "TAPy = TAPy.loc[0:2]\n",
        "\n",
        "TAP_x = pd.DataFrame(df2, columns=[\"Jarak (m)\"]) #Forward Bias\n",
        "TAP_x = TAP_x.loc[2:12]\n",
        "TAP_y = pd.DataFrame(df2, columns=[\"TAP\"])\n",
        "TAP_y = TAP_y.loc[2:12]\n",
        "\n",
        "_TAPx = pd.DataFrame(df2, columns=[\"Jarak (m)\"]) #Forward T'AP\n",
        "_TAPx = _TAPx.loc[2:12]\n",
        "_TAPy = pd.DataFrame(df2, columns=[\"TAPa\"])\n",
        "_TAPy = _TAPy.loc[2:12]\n",
        "\n",
        "resTAP = linregress(df2[\"Jarak (m)\"].loc[0:2], df2['TAP'].loc[0:2])\n",
        "print(f\" Slope TAP   : {resTAP.slope}\\n\", f\"Intercept TAP: {resTAP.intercept}\\n\")\n",
        "resTAP_ = linregress(df2[\"Jarak (m)\"].loc[2:12], df2['TAP'].loc[2:12])\n",
        "print(f\" Slope TAP_   : {resTAP_.slope}\\n\", f\"Intercept TAP_: {resTAP_.intercept}\\n\")\n",
        "res_TAP = linregress(df2[\"Jarak (m)\"].loc[2:12], df2['TAPa'].loc[2:12])\n",
        "print(f\" Slope T'AP   : {res_TAP.slope}\\n\", f\"Intercept T'AP: {res_TAP.intercept}\\n\")\n",
        "\n",
        "TBPx = pd.DataFrame(df2, columns=[\"Jarak (m)\"]) #Backward Langsung\n",
        "TBPx = TBPx.loc[10:12]\n",
        "TBPy = pd.DataFrame(df2, columns=[\"TBP\"])\n",
        "TBPy = TBPy.loc[10:12]\n",
        "\n",
        "TBP_x = pd.DataFrame(df2, columns=[\"Jarak (m)\"]) #Backward Bias\n",
        "TBP_x = TBP_x.loc[0:10]\n",
        "TBP_y = pd.DataFrame(df2, columns=[\"TBP\"])\n",
        "TBP_y = TBP_y.loc[0:10]\n",
        "\n",
        "_TBPx = pd.DataFrame(df2, columns=[\"Jarak (m)\"]) #Backward T'AP\n",
        "_TBPx = _TBPx.loc[0:10]\n",
        "_TBPy = pd.DataFrame(df2, columns=[\"TBPa\"])\n",
        "_TBPy = _TBPy.loc[0:10]\n",
        "\n",
        "resTBP = linregress(df2[\"Jarak (m)\"].loc[10:12], df2['TBP'].loc[10:12])\n",
        "print(f\" Slope TBP   : {resTBP.slope}\\n\", f\"Intercept TBP: {resTBP.intercept}\\n\")\n",
        "resTBP_ = linregress(df2[\"Jarak (m)\"].loc[0:10], df2['TBP'].loc[0:10])\n",
        "print(f\" Slope TBP_   : {resTBP_.slope}\\n\", f\"Intercept TBP_: {resTBP_.intercept}\\n\")\n",
        "res_TBP = linregress(df2[\"Jarak (m)\"].loc[2:12], df2['TBPa'].loc[2:12])\n",
        "print(f\" Slope T'BP   : {res_TBP.slope}\\n\", f\"Intercept T'BP: {res_TBP.intercept}\\n\")\n",
        "\n",
        "plt.plot(TAPx, TAPy)#'o', label='original data'\n",
        "plt.plot(TAPx, resTAP.intercept + resTAP.slope*TAPx, 'b', label='Forward Langsung')\n",
        "plt.plot(TAP_x, TAP_y)\n",
        "plt.plot(TAP_x, resTAP_.intercept + resTAP_.slope*TAP_x, 'r', label='Forward Bias')\n",
        "plt.plot(_TAPx, _TAPy)\n",
        "plt.plot(_TAPx, res_TAP.intercept + res_TAP.slope*_TAPx, 'g', label='Forward T`AP')\n",
        "plt.plot(TBPx, TBPy)#'o', label='original data'\n",
        "plt.plot(TBPx, resTBP.intercept + resTBP.slope*TBPx, 'b', label='Backward Langsung')\n",
        "plt.plot(TBP_x, TBP_y)\n",
        "plt.plot(TBP_x, resTBP_.intercept + resTBP_.slope*TBP_x, 'r', label='Backward Bias')\n",
        "plt.plot(_TBPx, _TBPy)\n",
        "plt.plot(_TBPx, res_TBP.intercept + res_TBP.slope*_TBPx, 'g', label='Backward T`BP')\n",
        "plt.legend()\n",
        "plt.show()\n",
        "print(TAPx, TAPy)"
      ],
      "execution_count": null,
      "outputs": [
        {
          "output_type": "stream",
          "name": "stdout",
          "text": [
            " Slope TAP   : 0.0032\n",
            " Intercept TAP: 0.0011666666666666665\n",
            "\n",
            " Slope TAP_   : 0.0005527272727272729\n",
            " Intercept TAP_: 0.014054545454545453\n",
            "\n",
            " Slope T'AP   : 0.0006663636363636363\n",
            " Intercept T'AP: 0.0063840909090909104\n",
            "\n",
            " Slope TBP   : -0.0034000000000000007\n",
            " Intercept TBP: 0.10283333333333335\n",
            "\n",
            " Slope TBP_   : -0.0004909090909090908\n",
            " Intercept TBP_: 0.02836363636363636\n",
            "\n",
            " Slope T'BP   : -0.0006663636363636366\n",
            " Intercept T'BP: 0.024115909090909098\n",
            "\n"
          ]
        },
        {
          "output_type": "display_data",
          "data": {
            "image/png": "[encoded data removed]",
            "text/plain": [
              "<Figure size 432x288 with 1 Axes>"
            ]
          },
          "metadata": {
            "needs_background": "light"
          }
        },
        {
          "output_type": "stream",
          "name": "stdout",
          "text": [
            "   Jarak (m)\n",
            "0        0.0\n",
            "1        2.5\n",
            "2        5.0       TAP\n",
            "0  0.0000\n",
            "1  0.0115\n",
            "2  0.0160\n"
          ]
        }
      ]
    },
    {
      "cell_type": "code",
      "metadata": {
        "colab": {
          "base_uri": "https://localhost:8080/",
          "height": 130
        },
        "id": "uSiqLG0hKXhn",
        "outputId": "771eca0c-c981-48e8-a5ae-9c4694856802"
      },
      "source": [
        "import matplotlib.pyplot as plt\n",
        "jarak = df2.columns.str.('Jarak (m)')\n",
        "\n",
        "# Convert year values to integers, saving results back to dataframe\n",
        "\n",
        "df2.columns = jarak.astype(int)\n",
        "\n"
      ],
      "execution_count": null,
      "outputs": [
        {
          "output_type": "error",
          "ename": "SyntaxError",
          "evalue": "ignored",
          "traceback": [
            "\u001b[0;36m  File \u001b[0;32m\"<ipython-input-14-3ce6da91bf37>\"\u001b[0;36m, line \u001b[0;32m2\u001b[0m\n\u001b[0;31m    jarak = df2.columns.str.('Jarak (m)')\u001b[0m\n\u001b[0m                            ^\u001b[0m\n\u001b[0;31mSyntaxError\u001b[0m\u001b[0;31m:\u001b[0m invalid syntax\n"
          ]
        }
      ]
    },
    {
      "cell_type": "code",
      "metadata": {
        "id": "4aVAzuVJIrE8"
      },
      "source": [
        "H = []\n",
        "for i, row in df2.iterrows():\n",
        "   H.append()\n",
        "H"
      ],
      "execution_count": null,
      "outputs": []
    }
  ]
}